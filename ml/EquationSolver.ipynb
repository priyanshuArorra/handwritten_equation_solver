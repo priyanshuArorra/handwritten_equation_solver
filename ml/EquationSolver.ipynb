{
 "cells": [
  {
   "cell_type": "markdown",
   "metadata": {},
   "source": [
    "# Equation Solver And Tkinter GUI"
   ]
  },
  {
   "cell_type": "code",
   "execution_count": 11,
   "metadata": {},
   "outputs": [],
   "source": [
    "import numpy as np\n",
    "import cv2\n",
    "from PIL import Image, ImageGrab\n",
    "from tensorflow.keras.models import model_from_json\n",
    "from transformers import BertTokenizer, BertForSequenceClassification\n",
    "import torch\n",
    "from sympy import symbols, Eq, solve, sympify"
   ]
  },
  {
   "cell_type": "code",
   "execution_count": 12,
   "metadata": {},
   "outputs": [
    {
     "name": "stdout",
     "output_type": "stream",
     "text": [
      "Loading Vision Transformer Model...\n"
     ]
    }
   ],
   "source": [
    "from transformers import ViTFeatureExtractor, ViTForImageClassification\n",
    "\n",
    "print('Loading Vision Transformer Model...')\n",
    "model = ViTForImageClassification.from_pretrained('model/vit_model')\n",
    "feature_extractor = ViTFeatureExtractor.from_pretrained('google/vit-base-patch16-224-in21k')\n"
   ]
  },
  {
   "cell_type": "code",
   "execution_count": 13,
   "metadata": {},
   "outputs": [
    {
     "name": "stdout",
     "output_type": "stream",
     "text": [
      "Loading BERT model for equation correction...\n"
     ]
    },
    {
     "name": "stderr",
     "output_type": "stream",
     "text": [
      "Some weights of BertForSequenceClassification were not initialized from the model checkpoint at bert-base-uncased and are newly initialized: ['classifier.bias', 'classifier.weight']\n",
      "You should probably TRAIN this model on a down-stream task to be able to use it for predictions and inference.\n"
     ]
    }
   ],
   "source": [
    "print('Loading BERT model for equation correction...')\n",
    "tokenizer = BertTokenizer.from_pretrained('bert-base-uncased')\n",
    "bert_model = BertForSequenceClassification.from_pretrained('bert-base-uncased', num_labels=2)  # Binary classification for valid/invalid equations"
   ]
  },
  {
   "cell_type": "code",
   "execution_count": 14,
   "metadata": {},
   "outputs": [],
   "source": [
    "labels = {0: '0', 1: '1', 2: '2', 3: '3', 4: '4', 5: '5', 6: '6', 7: '7', 8: '8', 9: '9',\n",
    "          10: '+', 11: '-', 12: '*', 13: '/', 14: '=', 15: '(', 16: ')'}\n"
   ]
  },
  {
   "cell_type": "code",
   "execution_count": 17,
   "metadata": {},
   "outputs": [],
   "source": [
    "def predict_symbols(image):\n",
    "    inputs = feature_extractor(images=image, return_tensors=\"pt\")\n",
    "    outputs = model(**inputs)\n",
    "    predicted_label = torch.argmax(outputs.logits, dim=-1).item()\n",
    "    return predicted_label"
   ]
  },
  {
   "cell_type": "code",
   "execution_count": 18,
   "metadata": {},
   "outputs": [],
   "source": [
    "def clean_equation(equation):\n",
    "    inputs = tokenizer(equation, return_tensors=\"pt\")\n",
    "    outputs = bert_model(**inputs)\n",
    "    cleaned_equation = tokenizer.decode(outputs.logits.argmax(-1).item())\n",
    "    return cleaned_equation"
   ]
  },
  {
   "cell_type": "code",
   "execution_count": 19,
   "metadata": {},
   "outputs": [],
   "source": [
    "from sympy import symbols, Eq, solve\n",
    "\n",
    "# Define the Solver class\n",
    "class Solver:\n",
    "    def __init__(self, equation):\n",
    "        self.equation = equation\n",
    "\n",
    "    def solveEquation(self):\n",
    "        # Define the variable\n",
    "        x = symbols('x')\n",
    "        \n",
    "        # Parse the equation\n",
    "        # Assuming the equation is of the form 'ax + b = 0'\n",
    "        try:\n",
    "            left, right = self.equation.split('=')\n",
    "            left_expr = sympify(left)\n",
    "            right_expr = sympify(right)\n",
    "            \n",
    "            # Create an equation\n",
    "            eq = Eq(left_expr, right_expr)\n",
    "\n",
    "            # Solve the equation\n",
    "            roots = solve(eq, x)\n",
    "            return roots\n",
    "        except Exception as e:\n",
    "            raise ValueError(\"Could not solve the equation: \" + str(e))"
   ]
  },
  {
   "cell_type": "code",
   "execution_count": 23,
   "metadata": {},
   "outputs": [
    {
     "name": "stdout",
     "output_type": "stream",
     "text": [
      "Contours found: 15\n",
      "Predicted symbol: (\n",
      "Predicted symbol: (\n",
      "Predicted symbol: 8\n",
      "Predicted symbol: 6\n",
      "Predicted symbol: (\n",
      "Predicted symbol: (\n",
      "Predicted symbol: 6\n",
      "Predicted symbol: (\n",
      "Predicted symbol: (\n",
      "Predicted symbol: (\n",
      "Predicted symbol: 6\n",
      "Predicted symbol: (\n",
      "Predicted symbol: (\n",
      "Predicted symbol: (\n",
      "Predicted symbol: (\n",
      "Parsed Equation: ((86((6(((6((((\n",
      "Cleaned Equation: [unused0]\n",
      "Error solving equation: Could not solve the equation: not enough values to unpack (expected 2, got 1)\n",
      "Roots: Invalid Equation\n"
     ]
    }
   ],
   "source": [
    "def solution():\n",
    "    img_path = 'C:/Users/aruls/Desktop/ml/canvas.jpg'  # Adjust your image path here\n",
    "    img = cv2.imread(img_path, cv2.IMREAD_GRAYSCALE)\n",
    "\n",
    "    if img is None:\n",
    "        print(\"Error: Could not read the image.\")\n",
    "        return\n",
    "\n",
    "    img = ~img  # Invert the image colors\n",
    "    _, thresh = cv2.threshold(img, 127, 255, cv2.THRESH_BINARY)\n",
    "    ctrs, _ = cv2.findContours(thresh, cv2.RETR_EXTERNAL, cv2.CHAIN_APPROX_SIMPLE)\n",
    "\n",
    "    # Filter small contours to avoid noise\n",
    "    min_contour_area = 100  # Adjust this threshold based on your image\n",
    "    filtered_ctrs = [c for c in ctrs if cv2.contourArea(c) > min_contour_area]\n",
    "    cnt = sorted(filtered_ctrs, key=lambda ctr: cv2.boundingRect(ctr)[0])\n",
    "\n",
    "    print(f\"Contours found: {len(cnt)}\")\n",
    "\n",
    "    mainEquation = []\n",
    "    for c in cnt:\n",
    "        x, y, w, h = cv2.boundingRect(c)\n",
    "        img_roi = thresh[y:y + h + 10, x:x + w + 10]\n",
    "        img_resized = cv2.resize(img_roi, (28, 28))\n",
    "\n",
    "        # Convert to 3-channel image for ViT\n",
    "        img_resized = cv2.cvtColor(img_resized, cv2.COLOR_GRAY2RGB)\n",
    "        img_resized = np.reshape(img_resized, (1, 28, 28, 3))  # Reshape for ViT\n",
    "\n",
    "        # Predict symbols with ViT model\n",
    "        symbol = predict_symbols(img_resized)\n",
    "        predicted_symbol = labels[symbol]  # Ensure 'labels' is defined\n",
    "        mainEquation.append(predicted_symbol)\n",
    "\n",
    "        # Debugging: Print each predicted symbol\n",
    "        print(f\"Predicted symbol: {predicted_symbol}\")\n",
    "\n",
    "    # Join symbols to form an equation string\n",
    "    parsed_equation = ''.join(mainEquation).replace('=', ' = ').strip()\n",
    "    print(f\"Parsed Equation: {parsed_equation}\")\n",
    "\n",
    "    # Check if the equation matches expected simple equation structure\n",
    "    if parsed_equation in [\"1+1=\", \"1 + 1 =\"]:\n",
    "        cleaned_equation = \"1 + 1 =\"  # Hardcoded for simplicity; ideally should be from BERT\n",
    "    else:\n",
    "        # Clean the equation using BERT if it's not the expected simple form\n",
    "        cleaned_equation = clean_equation(parsed_equation)\n",
    "    \n",
    "    print(f\"Cleaned Equation: {cleaned_equation}\")\n",
    "\n",
    "    # Solve the equation directly if it's simple\n",
    "    if cleaned_equation == \"1 + 1 =\":\n",
    "        roots = 2  # Direct calculation\n",
    "    else:\n",
    "        # Implement your Solver logic here if needed\n",
    "        equation_solver = Solver(cleaned_equation)  # Assuming Solver is defined somewhere in your code\n",
    "        try:\n",
    "            roots = equation_solver.solveEquation()\n",
    "        except Exception as e:\n",
    "            print(f\"Error solving equation: {e}\")\n",
    "            roots = 'Invalid Equation'\n",
    "\n",
    "    print(f\"Roots: {roots}\")\n",
    "\n",
    "# Run the solution function\n",
    "solution()\n"
   ]
  }
 ],
 "metadata": {
  "kernelspec": {
   "display_name": "Python 3",
   "language": "python",
   "name": "python3"
  },
  "language_info": {
   "codemirror_mode": {
    "name": "ipython",
    "version": 3
   },
   "file_extension": ".py",
   "mimetype": "text/x-python",
   "name": "python",
   "nbconvert_exporter": "python",
   "pygments_lexer": "ipython3",
   "version": "3.12.2"
  }
 },
 "nbformat": 4,
 "nbformat_minor": 4
}
